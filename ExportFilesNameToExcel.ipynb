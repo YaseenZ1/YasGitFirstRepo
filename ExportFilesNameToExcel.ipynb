{
 "cells": [
  {
   "cell_type": "code",
   "execution_count": 27,
   "id": "0df358f3",
   "metadata": {},
   "outputs": [
    {
     "name": "stdout",
     "output_type": "stream",
     "text": [
      "DataFrame is written to Excel File successfully.\n",
      "Files are:\n",
      "                                          Files_Name\n",
      "0  Getting_Started_with_JupyterNotebook-20221213-...\n",
      "1                                           Mywork_R\n",
      "2                         R basics using RStudio.pdf\n",
      "3                                  screenshoots.docx\n",
      "4  Working_with_files-20221121-1668988800.jupyter...\n"
     ]
    }
   ],
   "source": [
    "#import pandas\n",
    "import pandas as pd\n",
    "\n",
    "#improt Python operating system interfaces os\n",
    "import os\n",
    "\n",
    "#specify the path where the files that you need to store their names into excel file\n",
    "path = \"F:\\DS\\Courses_notebooks\\Tools_for_Data_science\"\n",
    "\n",
    "#list the files\n",
    "data = os.listdir(path)\n",
    "\n",
    "#change list to dataframe with column \"Files_Name\"\n",
    "filelist = pd.DataFrame(data, columns=['Files_Name'])\n",
    "\n",
    "\n",
    "\n",
    "# write DataFrame to excel and specify output path where excel file will be stored\n",
    "filelist.to_excel(r'F:\\DS\\Courses_notebooks\\Files_Name.xlsx', index=True)\n",
    "\n",
    "\n",
    "print('DataFrame is written to Excel File successfully.')\n",
    "\n",
    "print(\"Files are:\")\n",
    "\n",
    "#print file names \n",
    "print(filelist)\n"
   ]
  },
  {
   "cell_type": "markdown",
   "id": "1c42470d",
   "metadata": {},
   "source": []
  },
  {
   "cell_type": "code",
   "execution_count": null,
   "id": "1fe24478",
   "metadata": {},
   "outputs": [],
   "source": []
  }
 ],
 "metadata": {
  "kernelspec": {
   "display_name": "Python 3 (ipykernel)",
   "language": "python",
   "name": "python3"
  },
  "language_info": {
   "codemirror_mode": {
    "name": "ipython",
    "version": 3
   },
   "file_extension": ".py",
   "mimetype": "text/x-python",
   "name": "python",
   "nbconvert_exporter": "python",
   "pygments_lexer": "ipython3",
   "version": "3.11.5"
  }
 },
 "nbformat": 4,
 "nbformat_minor": 5
}
